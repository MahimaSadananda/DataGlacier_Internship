{
  "nbformat": 4,
  "nbformat_minor": 0,
  "metadata": {
    "colab": {
      "provenance": []
    },
    "kernelspec": {
      "name": "python3",
      "display_name": "Python 3"
    },
    "language_info": {
      "name": "python"
    }
  },
  "cells": [
    {
      "cell_type": "markdown",
      "source": [
        "# **Week 6: File ingestion and schema validation**\n",
        "\n",
        "Data Glacier Virtual Internship\n",
        "\n",
        "Submitted By: Mahima Sadananda\n",
        "\n",
        "Date: 10/10/2024"
      ],
      "metadata": {
        "id": "QXBMvPI_M5qM"
      }
    },
    {
      "cell_type": "markdown",
      "source": [
        "## **Dataset**"
      ],
      "metadata": {
        "id": "_xk1Q_aSNXfH"
      }
    },
    {
      "cell_type": "markdown",
      "source": [
        "Combined_Flights_2018.csv  from Flight Status Prediction Dataset in Kaggle - https://www.kaggle.com/datasets/robikscube/flight-delay-dataset-20182022?select=Combined_Flights_2018.csv"
      ],
      "metadata": {
        "id": "JCb5P0fYNZ_0"
      }
    },
    {
      "cell_type": "markdown",
      "source": [
        "## **Import Necessary Libraries**"
      ],
      "metadata": {
        "id": "nwn-SLeNOO8o"
      }
    },
    {
      "cell_type": "code",
      "source": [
        "import warnings\n",
        "warnings.filterwarnings(\"ignore\")\n",
        "\n",
        "import os\n",
        "import time"
      ],
      "metadata": {
        "id": "GSmcTeJWOSwd"
      },
      "execution_count": 1,
      "outputs": []
    },
    {
      "cell_type": "markdown",
      "source": [
        "## **1. Reading Data Using Different Methods**"
      ],
      "metadata": {
        "id": "k2zk4eP0N9vU"
      }
    },
    {
      "cell_type": "markdown",
      "source": [
        "### **1.1 Pandas**"
      ],
      "metadata": {
        "id": "BBgqPGbJOET3"
      }
    },
    {
      "cell_type": "code",
      "source": [
        "import pandas as pd\n",
        "\n",
        "start = time.time()\n",
        "df_pandas = pd.read_csv(\"/content/drive/MyDrive/Week6/Combined_Flights_2018.csv\")\n",
        "end = time.time()\n",
        "\n",
        "print(f\"Read Time using Pandas: {end - start} seconds\")"
      ],
      "metadata": {
        "colab": {
          "base_uri": "https://localhost:8080/",
          "height": 529
        },
        "collapsed": true,
        "id": "CEltqggbODnJ",
        "outputId": "bc268bad-9ff5-42f9-8e07-47684cf18191"
      },
      "execution_count": 2,
      "outputs": [
        {
          "output_type": "error",
          "ename": "ParserError",
          "evalue": "Error tokenizing data. C error: Calling read(nbytes) on source failed. Try engine='python'.",
          "traceback": [
            "\u001b[0;31m---------------------------------------------------------------------------\u001b[0m",
            "\u001b[0;31mParserError\u001b[0m                               Traceback (most recent call last)",
            "\u001b[0;32m<ipython-input-2-21cc06c9d309>\u001b[0m in \u001b[0;36m<cell line: 4>\u001b[0;34m()\u001b[0m\n\u001b[1;32m      2\u001b[0m \u001b[0;34m\u001b[0m\u001b[0m\n\u001b[1;32m      3\u001b[0m \u001b[0mstart\u001b[0m \u001b[0;34m=\u001b[0m \u001b[0mtime\u001b[0m\u001b[0;34m.\u001b[0m\u001b[0mtime\u001b[0m\u001b[0;34m(\u001b[0m\u001b[0;34m)\u001b[0m\u001b[0;34m\u001b[0m\u001b[0;34m\u001b[0m\u001b[0m\n\u001b[0;32m----> 4\u001b[0;31m \u001b[0mdf_pandas\u001b[0m \u001b[0;34m=\u001b[0m \u001b[0mpd\u001b[0m\u001b[0;34m.\u001b[0m\u001b[0mread_csv\u001b[0m\u001b[0;34m(\u001b[0m\u001b[0;34m\"/content/drive/MyDrive/Week6/Combined_Flights_2018.csv\"\u001b[0m\u001b[0;34m)\u001b[0m\u001b[0;34m\u001b[0m\u001b[0;34m\u001b[0m\u001b[0m\n\u001b[0m\u001b[1;32m      5\u001b[0m \u001b[0mend\u001b[0m \u001b[0;34m=\u001b[0m \u001b[0mtime\u001b[0m\u001b[0;34m.\u001b[0m\u001b[0mtime\u001b[0m\u001b[0;34m(\u001b[0m\u001b[0;34m)\u001b[0m\u001b[0;34m\u001b[0m\u001b[0;34m\u001b[0m\u001b[0m\n\u001b[1;32m      6\u001b[0m \u001b[0;34m\u001b[0m\u001b[0m\n",
            "\u001b[0;32m/usr/local/lib/python3.10/dist-packages/pandas/io/parsers/readers.py\u001b[0m in \u001b[0;36mread_csv\u001b[0;34m(filepath_or_buffer, sep, delimiter, header, names, index_col, usecols, dtype, engine, converters, true_values, false_values, skipinitialspace, skiprows, skipfooter, nrows, na_values, keep_default_na, na_filter, verbose, skip_blank_lines, parse_dates, infer_datetime_format, keep_date_col, date_parser, date_format, dayfirst, cache_dates, iterator, chunksize, compression, thousands, decimal, lineterminator, quotechar, quoting, doublequote, escapechar, comment, encoding, encoding_errors, dialect, on_bad_lines, delim_whitespace, low_memory, memory_map, float_precision, storage_options, dtype_backend)\u001b[0m\n\u001b[1;32m   1024\u001b[0m     \u001b[0mkwds\u001b[0m\u001b[0;34m.\u001b[0m\u001b[0mupdate\u001b[0m\u001b[0;34m(\u001b[0m\u001b[0mkwds_defaults\u001b[0m\u001b[0;34m)\u001b[0m\u001b[0;34m\u001b[0m\u001b[0;34m\u001b[0m\u001b[0m\n\u001b[1;32m   1025\u001b[0m \u001b[0;34m\u001b[0m\u001b[0m\n\u001b[0;32m-> 1026\u001b[0;31m     \u001b[0;32mreturn\u001b[0m \u001b[0m_read\u001b[0m\u001b[0;34m(\u001b[0m\u001b[0mfilepath_or_buffer\u001b[0m\u001b[0;34m,\u001b[0m \u001b[0mkwds\u001b[0m\u001b[0;34m)\u001b[0m\u001b[0;34m\u001b[0m\u001b[0;34m\u001b[0m\u001b[0m\n\u001b[0m\u001b[1;32m   1027\u001b[0m \u001b[0;34m\u001b[0m\u001b[0m\n\u001b[1;32m   1028\u001b[0m \u001b[0;34m\u001b[0m\u001b[0m\n",
            "\u001b[0;32m/usr/local/lib/python3.10/dist-packages/pandas/io/parsers/readers.py\u001b[0m in \u001b[0;36m_read\u001b[0;34m(filepath_or_buffer, kwds)\u001b[0m\n\u001b[1;32m    624\u001b[0m \u001b[0;34m\u001b[0m\u001b[0m\n\u001b[1;32m    625\u001b[0m     \u001b[0;32mwith\u001b[0m \u001b[0mparser\u001b[0m\u001b[0;34m:\u001b[0m\u001b[0;34m\u001b[0m\u001b[0;34m\u001b[0m\u001b[0m\n\u001b[0;32m--> 626\u001b[0;31m         \u001b[0;32mreturn\u001b[0m \u001b[0mparser\u001b[0m\u001b[0;34m.\u001b[0m\u001b[0mread\u001b[0m\u001b[0;34m(\u001b[0m\u001b[0mnrows\u001b[0m\u001b[0;34m)\u001b[0m\u001b[0;34m\u001b[0m\u001b[0;34m\u001b[0m\u001b[0m\n\u001b[0m\u001b[1;32m    627\u001b[0m \u001b[0;34m\u001b[0m\u001b[0m\n\u001b[1;32m    628\u001b[0m \u001b[0;34m\u001b[0m\u001b[0m\n",
            "\u001b[0;32m/usr/local/lib/python3.10/dist-packages/pandas/io/parsers/readers.py\u001b[0m in \u001b[0;36mread\u001b[0;34m(self, nrows)\u001b[0m\n\u001b[1;32m   1921\u001b[0m                     \u001b[0mcolumns\u001b[0m\u001b[0;34m,\u001b[0m\u001b[0;34m\u001b[0m\u001b[0;34m\u001b[0m\u001b[0m\n\u001b[1;32m   1922\u001b[0m                     \u001b[0mcol_dict\u001b[0m\u001b[0;34m,\u001b[0m\u001b[0;34m\u001b[0m\u001b[0;34m\u001b[0m\u001b[0m\n\u001b[0;32m-> 1923\u001b[0;31m                 \u001b[0;34m)\u001b[0m \u001b[0;34m=\u001b[0m \u001b[0mself\u001b[0m\u001b[0;34m.\u001b[0m\u001b[0m_engine\u001b[0m\u001b[0;34m.\u001b[0m\u001b[0mread\u001b[0m\u001b[0;34m(\u001b[0m  \u001b[0;31m# type: ignore[attr-defined]\u001b[0m\u001b[0;34m\u001b[0m\u001b[0;34m\u001b[0m\u001b[0m\n\u001b[0m\u001b[1;32m   1924\u001b[0m                     \u001b[0mnrows\u001b[0m\u001b[0;34m\u001b[0m\u001b[0;34m\u001b[0m\u001b[0m\n\u001b[1;32m   1925\u001b[0m                 )\n",
            "\u001b[0;32m/usr/local/lib/python3.10/dist-packages/pandas/io/parsers/c_parser_wrapper.py\u001b[0m in \u001b[0;36mread\u001b[0;34m(self, nrows)\u001b[0m\n\u001b[1;32m    232\u001b[0m         \u001b[0;32mtry\u001b[0m\u001b[0;34m:\u001b[0m\u001b[0;34m\u001b[0m\u001b[0;34m\u001b[0m\u001b[0m\n\u001b[1;32m    233\u001b[0m             \u001b[0;32mif\u001b[0m \u001b[0mself\u001b[0m\u001b[0;34m.\u001b[0m\u001b[0mlow_memory\u001b[0m\u001b[0;34m:\u001b[0m\u001b[0;34m\u001b[0m\u001b[0;34m\u001b[0m\u001b[0m\n\u001b[0;32m--> 234\u001b[0;31m                 \u001b[0mchunks\u001b[0m \u001b[0;34m=\u001b[0m \u001b[0mself\u001b[0m\u001b[0;34m.\u001b[0m\u001b[0m_reader\u001b[0m\u001b[0;34m.\u001b[0m\u001b[0mread_low_memory\u001b[0m\u001b[0;34m(\u001b[0m\u001b[0mnrows\u001b[0m\u001b[0;34m)\u001b[0m\u001b[0;34m\u001b[0m\u001b[0;34m\u001b[0m\u001b[0m\n\u001b[0m\u001b[1;32m    235\u001b[0m                 \u001b[0;31m# destructive to chunks\u001b[0m\u001b[0;34m\u001b[0m\u001b[0;34m\u001b[0m\u001b[0m\n\u001b[1;32m    236\u001b[0m                 \u001b[0mdata\u001b[0m \u001b[0;34m=\u001b[0m \u001b[0m_concatenate_chunks\u001b[0m\u001b[0;34m(\u001b[0m\u001b[0mchunks\u001b[0m\u001b[0;34m)\u001b[0m\u001b[0;34m\u001b[0m\u001b[0;34m\u001b[0m\u001b[0m\n",
            "\u001b[0;32mparsers.pyx\u001b[0m in \u001b[0;36mpandas._libs.parsers.TextReader.read_low_memory\u001b[0;34m()\u001b[0m\n",
            "\u001b[0;32mparsers.pyx\u001b[0m in \u001b[0;36mpandas._libs.parsers.TextReader._read_rows\u001b[0;34m()\u001b[0m\n",
            "\u001b[0;32mparsers.pyx\u001b[0m in \u001b[0;36mpandas._libs.parsers.TextReader._tokenize_rows\u001b[0;34m()\u001b[0m\n",
            "\u001b[0;32mparsers.pyx\u001b[0m in \u001b[0;36mpandas._libs.parsers.TextReader._check_tokenize_status\u001b[0;34m()\u001b[0m\n",
            "\u001b[0;32mparsers.pyx\u001b[0m in \u001b[0;36mpandas._libs.parsers.raise_parser_error\u001b[0;34m()\u001b[0m\n",
            "\u001b[0;31mParserError\u001b[0m: Error tokenizing data. C error: Calling read(nbytes) on source failed. Try engine='python'."
          ]
        }
      ]
    },
    {
      "cell_type": "markdown",
      "source": [
        "### **1.2 Dask**"
      ],
      "metadata": {
        "id": "Ff47A3qhO9_X"
      }
    },
    {
      "cell_type": "code",
      "source": [
        "import dask.dataframe as dd\n",
        "\n",
        "start = time.time()\n",
        "df_dask = dd.read_csv(\"/content/drive/MyDrive/Week6/Combined_Flights_2018.csv\")\n",
        "end = time.time()\n",
        "\n",
        "print(f\"Read Time using Dask: {end - start} seconds\")"
      ],
      "metadata": {
        "colab": {
          "base_uri": "https://localhost:8080/"
        },
        "id": "pVo3NHo-M8qL",
        "outputId": "75ce6138-1af1-4d3f-baed-89eec4361a40"
      },
      "execution_count": 4,
      "outputs": [
        {
          "output_type": "stream",
          "name": "stdout",
          "text": [
            "Read Time using Dask: 0.12508320808410645 seconds\n"
          ]
        }
      ]
    },
    {
      "cell_type": "markdown",
      "source": [
        "### **1.3 Modin and Ray**"
      ],
      "metadata": {
        "id": "HK9n5dtYPBUv"
      }
    },
    {
      "cell_type": "code",
      "source": [
        "#pip install modin[ray]"
      ],
      "metadata": {
        "collapsed": true,
        "id": "r0JCuB4YQ9vE"
      },
      "execution_count": null,
      "outputs": []
    },
    {
      "cell_type": "code",
      "source": [
        "import modin.pandas as mpd\n",
        "\n",
        "start = time.time()\n",
        "df_modin = mpd.read_csv(\"/content/drive/MyDrive/Week6/Combined_Flights_2018.csv\")\n",
        "end = time.time()\n",
        "\n",
        "print(f\"Read Time using Modin: {end - start} seconds\")"
      ],
      "metadata": {
        "colab": {
          "base_uri": "https://localhost:8080/"
        },
        "collapsed": true,
        "id": "K0-xEGKgPL5-",
        "outputId": "1a147c7e-d274-424a-a18d-4343709517c1"
      },
      "execution_count": 7,
      "outputs": [
        {
          "output_type": "stream",
          "name": "stderr",
          "text": [
            "2024-10-10 22:18:15,383\tINFO worker.py:1786 -- Started a local Ray instance.\n"
          ]
        },
        {
          "output_type": "stream",
          "name": "stdout",
          "text": [
            "\u001b[33m(raylet)\u001b[0m A worker died or was killed while executing a task by an unexpected system error. To troubleshoot the problem, check the logs for the dead worker. RayTask ID: 04e4a039984cef68a6f79e962cd449e88879783f01000000 Worker ID: ec73cf3f5086485731cca2de4ede20c18911ae27f12a6261f0666328 Node ID: 19bace899fa5e6dae47ad002ed9e497d2919708b3f9416c5b4967484 Worker IP address: 172.28.0.12 Worker port: 37163 Worker PID: 23360 Worker exit type: SYSTEM_ERROR Worker exit detail: Worker unexpectedly exits with a connection error code 2. End of file. There are some potential root causes. (1) The process is killed by SIGKILL by OOM killer due to high memory usage. (2) ray stop --force is called. (3) The worker is crashed unexpectedly due to SIGSEGV or other unexpected errors.\n"
          ]
        },
        {
          "output_type": "stream",
          "name": "stderr",
          "text": [
            "\u001b[33m(raylet)\u001b[0m [2024-10-10 22:20:15,281 E 23290 23290] (raylet) node_manager.cc:3065: 1 Workers (tasks / actors) killed due to memory pressure (OOM), 0 Workers crashed due to other reasons at node (ID: 19bace899fa5e6dae47ad002ed9e497d2919708b3f9416c5b4967484, IP: 172.28.0.12) over the last time period. To see more information about the Workers killed on this node, use `ray logs raylet.out -ip 172.28.0.12`\n",
            "\u001b[33m(raylet)\u001b[0m \n",
            "\u001b[33m(raylet)\u001b[0m Refer to the documentation on how to address the out of memory issue: https://docs.ray.io/en/latest/ray-core/scheduling/ray-oom-prevention.html. Consider provisioning more memory on this node or reducing task parallelism by requesting more CPUs per task. To adjust the kill threshold, set the environment variable `RAY_memory_usage_threshold` when starting Ray. To disable worker killing, set the environment variable `RAY_memory_monitor_refresh_ms` to zero.\n",
            "\u001b[33m(raylet)\u001b[0m \n",
            "\u001b[33m(raylet)\u001b[0m [2024-10-10 22:21:15,283 E 23290 23290] (raylet) node_manager.cc:3065: 1 Workers (tasks / actors) killed due to memory pressure (OOM), 0 Workers crashed due to other reasons at node (ID: 19bace899fa5e6dae47ad002ed9e497d2919708b3f9416c5b4967484, IP: 172.28.0.12) over the last time period. To see more information about the Workers killed on this node, use `ray logs raylet.out -ip 172.28.0.12`\n",
            "\u001b[33m(raylet)\u001b[0m Refer to the documentation on how to address the out of memory issue: https://docs.ray.io/en/latest/ray-core/scheduling/ray-oom-prevention.html. Consider provisioning more memory on this node or reducing task parallelism by requesting more CPUs per task. To adjust the kill threshold, set the environment variable `RAY_memory_usage_threshold` when starting Ray. To disable worker killing, set the environment variable `RAY_memory_monitor_refresh_ms` to zero.\n"
          ]
        },
        {
          "output_type": "stream",
          "name": "stdout",
          "text": [
            "Read Time using Modin: 231.2152135372162 seconds\n"
          ]
        }
      ]
    },
    {
      "cell_type": "markdown",
      "source": [
        "**Conclusion:** Pandas crashed while reading the file, Dask took only 0.125 seconds, while Modin & Ray took 231.215 seconds. **Dask** has been time efficient in this case.\n"
      ],
      "metadata": {
        "id": "COJrayUFPkMO"
      }
    },
    {
      "cell_type": "markdown",
      "source": [
        "## **2. Basic Validation**"
      ],
      "metadata": {
        "id": "peqIzcAAP1OW"
      }
    },
    {
      "cell_type": "code",
      "source": [
        "# making a copy\n",
        "df = df_modin.copy()"
      ],
      "metadata": {
        "id": "NuLByxV_PmOk"
      },
      "execution_count": 8,
      "outputs": []
    },
    {
      "cell_type": "code",
      "source": [
        "# printing top 5 rows\n",
        "df.head()"
      ],
      "metadata": {
        "colab": {
          "base_uri": "https://localhost:8080/",
          "height": 342
        },
        "id": "4_gqVmULScIu",
        "outputId": "a4734c82-00c4-40c3-9715-19cc61d78ebd"
      },
      "execution_count": 12,
      "outputs": [
        {
          "output_type": "execute_result",
          "data": {
            "text/plain": [
              "   FlightDate            Airline Origin Dest  Cancelled  Diverted  CRSDepTime  \\\n",
              "0  2018-01-23  Endeavor Air Inc.    ABY  ATL      False     False        1202   \n",
              "1  2018-01-24  Endeavor Air Inc.    ABY  ATL      False     False        1202   \n",
              "2  2018-01-25  Endeavor Air Inc.    ABY  ATL      False     False        1202   \n",
              "3  2018-01-26  Endeavor Air Inc.    ABY  ATL      False     False        1202   \n",
              "4  2018-01-27  Endeavor Air Inc.    ABY  ATL      False     False        1400   \n",
              "\n",
              "   DepTime  DepDelayMinutes  DepDelay  ...  WheelsOff  WheelsOn  TaxiIn  \\\n",
              "0   1157.0              0.0      -5.0  ...     1211.0    1249.0     7.0   \n",
              "1   1157.0              0.0      -5.0  ...     1210.0    1246.0    12.0   \n",
              "2   1153.0              0.0      -9.0  ...     1211.0    1251.0    11.0   \n",
              "3   1150.0              0.0     -12.0  ...     1207.0    1242.0    11.0   \n",
              "4   1355.0              0.0      -5.0  ...     1412.0    1448.0    11.0   \n",
              "\n",
              "   CRSArrTime  ArrDelay  ArrDel15  ArrivalDelayGroups  ArrTimeBlk  \\\n",
              "0        1304      -8.0       0.0                -1.0   1300-1359   \n",
              "1        1304      -6.0       0.0                -1.0   1300-1359   \n",
              "2        1304      -2.0       0.0                -1.0   1300-1359   \n",
              "3        1304     -11.0       0.0                -1.0   1300-1359   \n",
              "4        1500      -1.0       0.0                -1.0   1500-1559   \n",
              "\n",
              "  DistanceGroup  DivAirportLandings  \n",
              "0             1                 0.0  \n",
              "1             1                 0.0  \n",
              "2             1                 0.0  \n",
              "3             1                 0.0  \n",
              "4             1                 0.0  \n",
              "\n",
              "[5 rows x 61 columns]"
            ],
            "text/html": [
              "<div>\n",
              "<style scoped>\n",
              "    .dataframe tbody tr th:only-of-type {\n",
              "        vertical-align: middle;\n",
              "    }\n",
              "\n",
              "    .dataframe tbody tr th {\n",
              "        vertical-align: top;\n",
              "    }\n",
              "\n",
              "    .dataframe thead th {\n",
              "        text-align: right;\n",
              "    }\n",
              "</style>\n",
              "<table border=\"1\" class=\"dataframe\">\n",
              "  <thead>\n",
              "    <tr style=\"text-align: right;\">\n",
              "      <th></th>\n",
              "      <th>FlightDate</th>\n",
              "      <th>Airline</th>\n",
              "      <th>Origin</th>\n",
              "      <th>Dest</th>\n",
              "      <th>Cancelled</th>\n",
              "      <th>Diverted</th>\n",
              "      <th>CRSDepTime</th>\n",
              "      <th>DepTime</th>\n",
              "      <th>DepDelayMinutes</th>\n",
              "      <th>DepDelay</th>\n",
              "      <th>...</th>\n",
              "      <th>WheelsOff</th>\n",
              "      <th>WheelsOn</th>\n",
              "      <th>TaxiIn</th>\n",
              "      <th>CRSArrTime</th>\n",
              "      <th>ArrDelay</th>\n",
              "      <th>ArrDel15</th>\n",
              "      <th>ArrivalDelayGroups</th>\n",
              "      <th>ArrTimeBlk</th>\n",
              "      <th>DistanceGroup</th>\n",
              "      <th>DivAirportLandings</th>\n",
              "    </tr>\n",
              "  </thead>\n",
              "  <tbody>\n",
              "    <tr>\n",
              "      <th>0</th>\n",
              "      <td>2018-01-23</td>\n",
              "      <td>Endeavor Air Inc.</td>\n",
              "      <td>ABY</td>\n",
              "      <td>ATL</td>\n",
              "      <td>False</td>\n",
              "      <td>False</td>\n",
              "      <td>1202</td>\n",
              "      <td>1157.0</td>\n",
              "      <td>0.0</td>\n",
              "      <td>-5.0</td>\n",
              "      <td>...</td>\n",
              "      <td>1211.0</td>\n",
              "      <td>1249.0</td>\n",
              "      <td>7.0</td>\n",
              "      <td>1304</td>\n",
              "      <td>-8.0</td>\n",
              "      <td>0.0</td>\n",
              "      <td>-1.0</td>\n",
              "      <td>1300-1359</td>\n",
              "      <td>1</td>\n",
              "      <td>0.0</td>\n",
              "    </tr>\n",
              "    <tr>\n",
              "      <th>1</th>\n",
              "      <td>2018-01-24</td>\n",
              "      <td>Endeavor Air Inc.</td>\n",
              "      <td>ABY</td>\n",
              "      <td>ATL</td>\n",
              "      <td>False</td>\n",
              "      <td>False</td>\n",
              "      <td>1202</td>\n",
              "      <td>1157.0</td>\n",
              "      <td>0.0</td>\n",
              "      <td>-5.0</td>\n",
              "      <td>...</td>\n",
              "      <td>1210.0</td>\n",
              "      <td>1246.0</td>\n",
              "      <td>12.0</td>\n",
              "      <td>1304</td>\n",
              "      <td>-6.0</td>\n",
              "      <td>0.0</td>\n",
              "      <td>-1.0</td>\n",
              "      <td>1300-1359</td>\n",
              "      <td>1</td>\n",
              "      <td>0.0</td>\n",
              "    </tr>\n",
              "    <tr>\n",
              "      <th>2</th>\n",
              "      <td>2018-01-25</td>\n",
              "      <td>Endeavor Air Inc.</td>\n",
              "      <td>ABY</td>\n",
              "      <td>ATL</td>\n",
              "      <td>False</td>\n",
              "      <td>False</td>\n",
              "      <td>1202</td>\n",
              "      <td>1153.0</td>\n",
              "      <td>0.0</td>\n",
              "      <td>-9.0</td>\n",
              "      <td>...</td>\n",
              "      <td>1211.0</td>\n",
              "      <td>1251.0</td>\n",
              "      <td>11.0</td>\n",
              "      <td>1304</td>\n",
              "      <td>-2.0</td>\n",
              "      <td>0.0</td>\n",
              "      <td>-1.0</td>\n",
              "      <td>1300-1359</td>\n",
              "      <td>1</td>\n",
              "      <td>0.0</td>\n",
              "    </tr>\n",
              "    <tr>\n",
              "      <th>3</th>\n",
              "      <td>2018-01-26</td>\n",
              "      <td>Endeavor Air Inc.</td>\n",
              "      <td>ABY</td>\n",
              "      <td>ATL</td>\n",
              "      <td>False</td>\n",
              "      <td>False</td>\n",
              "      <td>1202</td>\n",
              "      <td>1150.0</td>\n",
              "      <td>0.0</td>\n",
              "      <td>-12.0</td>\n",
              "      <td>...</td>\n",
              "      <td>1207.0</td>\n",
              "      <td>1242.0</td>\n",
              "      <td>11.0</td>\n",
              "      <td>1304</td>\n",
              "      <td>-11.0</td>\n",
              "      <td>0.0</td>\n",
              "      <td>-1.0</td>\n",
              "      <td>1300-1359</td>\n",
              "      <td>1</td>\n",
              "      <td>0.0</td>\n",
              "    </tr>\n",
              "    <tr>\n",
              "      <th>4</th>\n",
              "      <td>2018-01-27</td>\n",
              "      <td>Endeavor Air Inc.</td>\n",
              "      <td>ABY</td>\n",
              "      <td>ATL</td>\n",
              "      <td>False</td>\n",
              "      <td>False</td>\n",
              "      <td>1400</td>\n",
              "      <td>1355.0</td>\n",
              "      <td>0.0</td>\n",
              "      <td>-5.0</td>\n",
              "      <td>...</td>\n",
              "      <td>1412.0</td>\n",
              "      <td>1448.0</td>\n",
              "      <td>11.0</td>\n",
              "      <td>1500</td>\n",
              "      <td>-1.0</td>\n",
              "      <td>0.0</td>\n",
              "      <td>-1.0</td>\n",
              "      <td>1500-1559</td>\n",
              "      <td>1</td>\n",
              "      <td>0.0</td>\n",
              "    </tr>\n",
              "  </tbody>\n",
              "</table>\n",
              "<p>5 rows x 61 columns</p>\n",
              "</div>"
            ]
          },
          "metadata": {},
          "execution_count": 12
        }
      ]
    },
    {
      "cell_type": "code",
      "source": [
        "# checking df info\n",
        "df.info()"
      ],
      "metadata": {
        "colab": {
          "base_uri": "https://localhost:8080/"
        },
        "id": "8VrFvjkHQSY1",
        "outputId": "c21df087-3aa9-4b0a-ddd7-b547ab2b8737"
      },
      "execution_count": 9,
      "outputs": [
        {
          "output_type": "stream",
          "name": "stdout",
          "text": [
            "<class 'modin.pandas.dataframe.DataFrame'>\n",
            "RangeIndex: 5689512 entries, 0 to 5689511\n",
            "Data columns (total 61 columns):\n",
            " #   Column                                   Dtype  \n",
            "---  ------                                   -----  \n",
            " 0   FlightDate                               object \n",
            " 1   Airline                                  object \n",
            " 2   Origin                                   object \n",
            " 3   Dest                                     object \n",
            " 4   Cancelled                                bool   \n",
            " 5   Diverted                                 bool   \n",
            " 6   CRSDepTime                               int64  \n",
            " 7   DepTime                                  float64\n",
            " 8   DepDelayMinutes                          float64\n",
            " 9   DepDelay                                 float64\n",
            " 10  ArrTime                                  float64\n",
            " 11  ArrDelayMinutes                          float64\n",
            " 12  AirTime                                  float64\n",
            " 13  CRSElapsedTime                           float64\n",
            " 14  ActualElapsedTime                        float64\n",
            " 15  Distance                                 float64\n",
            " 16  Year                                     int64  \n",
            " 17  Quarter                                  int64  \n",
            " 18  Month                                    int64  \n",
            " 19  DayofMonth                               int64  \n",
            " 20  DayOfWeek                                int64  \n",
            " 21  Marketing_Airline_Network                object \n",
            " 22  Operated_or_Branded_Code_Share_Partners  object \n",
            " 23  DOT_ID_Marketing_Airline                 int64  \n",
            " 24  IATA_Code_Marketing_Airline              object \n",
            " 25  Flight_Number_Marketing_Airline          int64  \n",
            " 26  Operating_Airline                        object \n",
            " 27  DOT_ID_Operating_Airline                 int64  \n",
            " 28  IATA_Code_Operating_Airline              object \n",
            " 29  Tail_Number                              object \n",
            " 30  Flight_Number_Operating_Airline          int64  \n",
            " 31  OriginAirportID                          int64  \n",
            " 32  OriginAirportSeqID                       int64  \n",
            " 33  OriginCityMarketID                       int64  \n",
            " 34  OriginCityName                           object \n",
            " 35  OriginState                              object \n",
            " 36  OriginStateFips                          int64  \n",
            " 37  OriginStateName                          object \n",
            " 38  OriginWac                                int64  \n",
            " 39  DestAirportID                            int64  \n",
            " 40  DestAirportSeqID                         int64  \n",
            " 41  DestCityMarketID                         int64  \n",
            " 42  DestCityName                             object \n",
            " 43  DestState                                object \n",
            " 44  DestStateFips                            int64  \n",
            " 45  DestStateName                            object \n",
            " 46  DestWac                                  int64  \n",
            " 47  DepDel15                                 float64\n",
            " 48  DepartureDelayGroups                     float64\n",
            " 49  DepTimeBlk                               object \n",
            " 50  TaxiOut                                  float64\n",
            " 51  WheelsOff                                float64\n",
            " 52  WheelsOn                                 float64\n",
            " 53  TaxiIn                                   float64\n",
            " 54  CRSArrTime                               int64  \n",
            " 55  ArrDelay                                 float64\n",
            " 56  ArrDel15                                 float64\n",
            " 57  ArrivalDelayGroups                       float64\n",
            " 58  ArrTimeBlk                               object \n",
            " 59  DistanceGroup                            int64  \n",
            " 60  DivAirportLandings                       float64\n",
            "dtypes: bool(2), float64(19), int64(22), object(18)\n",
            "memory usage: 2.5+ GB\n"
          ]
        }
      ]
    },
    {
      "cell_type": "code",
      "source": [
        "# removing special character\n",
        "df.columns = df.columns.str.replace('[^A-Za-z0-9]+', '', regex=True)"
      ],
      "metadata": {
        "id": "Dz3f_rfMQy32"
      },
      "execution_count": 10,
      "outputs": []
    },
    {
      "cell_type": "code",
      "source": [
        "# removing white space from columns\n",
        "df.columns = df.columns.str.replace(' ', '')"
      ],
      "metadata": {
        "id": "flr9XFGjRcin"
      },
      "execution_count": 11,
      "outputs": []
    },
    {
      "cell_type": "markdown",
      "source": [
        "## **3. YAML**"
      ],
      "metadata": {
        "id": "jGzrjf9jTKFx"
      }
    },
    {
      "cell_type": "markdown",
      "source": [
        "### **3.1 Creating YAML File**"
      ],
      "metadata": {
        "id": "0KGuhkNtULKg"
      }
    },
    {
      "cell_type": "code",
      "source": [
        "# column names\n",
        "df.columns.tolist()"
      ],
      "metadata": {
        "colab": {
          "base_uri": "https://localhost:8080/"
        },
        "id": "ZnqrP2i0SjQZ",
        "outputId": "170cce53-f305-4af9-b6da-2399c2049625"
      },
      "execution_count": 13,
      "outputs": [
        {
          "output_type": "execute_result",
          "data": {
            "text/plain": [
              "['FlightDate',\n",
              " 'Airline',\n",
              " 'Origin',\n",
              " 'Dest',\n",
              " 'Cancelled',\n",
              " 'Diverted',\n",
              " 'CRSDepTime',\n",
              " 'DepTime',\n",
              " 'DepDelayMinutes',\n",
              " 'DepDelay',\n",
              " 'ArrTime',\n",
              " 'ArrDelayMinutes',\n",
              " 'AirTime',\n",
              " 'CRSElapsedTime',\n",
              " 'ActualElapsedTime',\n",
              " 'Distance',\n",
              " 'Year',\n",
              " 'Quarter',\n",
              " 'Month',\n",
              " 'DayofMonth',\n",
              " 'DayOfWeek',\n",
              " 'MarketingAirlineNetwork',\n",
              " 'OperatedorBrandedCodeSharePartners',\n",
              " 'DOTIDMarketingAirline',\n",
              " 'IATACodeMarketingAirline',\n",
              " 'FlightNumberMarketingAirline',\n",
              " 'OperatingAirline',\n",
              " 'DOTIDOperatingAirline',\n",
              " 'IATACodeOperatingAirline',\n",
              " 'TailNumber',\n",
              " 'FlightNumberOperatingAirline',\n",
              " 'OriginAirportID',\n",
              " 'OriginAirportSeqID',\n",
              " 'OriginCityMarketID',\n",
              " 'OriginCityName',\n",
              " 'OriginState',\n",
              " 'OriginStateFips',\n",
              " 'OriginStateName',\n",
              " 'OriginWac',\n",
              " 'DestAirportID',\n",
              " 'DestAirportSeqID',\n",
              " 'DestCityMarketID',\n",
              " 'DestCityName',\n",
              " 'DestState',\n",
              " 'DestStateFips',\n",
              " 'DestStateName',\n",
              " 'DestWac',\n",
              " 'DepDel15',\n",
              " 'DepartureDelayGroups',\n",
              " 'DepTimeBlk',\n",
              " 'TaxiOut',\n",
              " 'WheelsOff',\n",
              " 'WheelsOn',\n",
              " 'TaxiIn',\n",
              " 'CRSArrTime',\n",
              " 'ArrDelay',\n",
              " 'ArrDel15',\n",
              " 'ArrivalDelayGroups',\n",
              " 'ArrTimeBlk',\n",
              " 'DistanceGroup',\n",
              " 'DivAirportLandings']"
            ]
          },
          "metadata": {},
          "execution_count": 13
        }
      ]
    },
    {
      "cell_type": "markdown",
      "source": [
        "### **3.2 Open YAML File**"
      ],
      "metadata": {
        "id": "4IWKx62uUPWp"
      }
    },
    {
      "cell_type": "code",
      "source": [
        "import yaml\n",
        "\n",
        "with open(\"/content/drive/MyDrive/Week6/config.yaml\") as file:\n",
        "    config = yaml.safe_load(file)"
      ],
      "metadata": {
        "id": "2JvjloUbTGC5"
      },
      "execution_count": 16,
      "outputs": []
    },
    {
      "cell_type": "markdown",
      "source": [
        "### **3.3 Validate Ingested YAML File**"
      ],
      "metadata": {
        "id": "VyUprj22UuWi"
      }
    },
    {
      "cell_type": "code",
      "source": [
        "if list(df.columns) == config[\"columns\"]:\n",
        "    print(\"Validation Successful :)\")\n",
        "else:\n",
        "    print(\"Validation Failed :(\")"
      ],
      "metadata": {
        "colab": {
          "base_uri": "https://localhost:8080/"
        },
        "id": "fNdcT4ftUhL4",
        "outputId": "23777e77-ea6f-47ba-ff6c-15916eaf93da"
      },
      "execution_count": 17,
      "outputs": [
        {
          "output_type": "stream",
          "name": "stdout",
          "text": [
            "Validation Successful :)\n"
          ]
        }
      ]
    },
    {
      "cell_type": "markdown",
      "source": [
        "### **3.4 Create Textfile in GZ format with Pipe Separator**"
      ],
      "metadata": {
        "id": "LlgloRZYVM6m"
      }
    },
    {
      "cell_type": "code",
      "source": [
        "df_subset = df.iloc[:2000]  # selecting first 2000 rows\n",
        "df_subset.to_csv(\"output_file.csv.gz\", sep=\"|\", compression=\"gzip\", index=False)"
      ],
      "metadata": {
        "id": "MnrJwRM_VY8j"
      },
      "execution_count": 19,
      "outputs": []
    },
    {
      "cell_type": "markdown",
      "source": [
        "### **3.5 File Summary**"
      ],
      "metadata": {
        "id": "DvMlgk45WsoO"
      }
    },
    {
      "cell_type": "code",
      "source": [
        "# no. of rows\n",
        "len(df)"
      ],
      "metadata": {
        "colab": {
          "base_uri": "https://localhost:8080/"
        },
        "id": "9v-NOoAAVmuh",
        "outputId": "dff0f292-5ac4-4f3c-9517-75d277ea99ac"
      },
      "execution_count": 20,
      "outputs": [
        {
          "output_type": "execute_result",
          "data": {
            "text/plain": [
              "5689512"
            ]
          },
          "metadata": {},
          "execution_count": 20
        }
      ]
    },
    {
      "cell_type": "code",
      "source": [
        "# no. of columns\n",
        "len(df.columns)"
      ],
      "metadata": {
        "colab": {
          "base_uri": "https://localhost:8080/"
        },
        "id": "X19zaB0MW2dI",
        "outputId": "df664b6d-873d-488f-c20c-a6112175d404"
      },
      "execution_count": 21,
      "outputs": [
        {
          "output_type": "execute_result",
          "data": {
            "text/plain": [
              "61"
            ]
          },
          "metadata": {},
          "execution_count": 21
        }
      ]
    },
    {
      "cell_type": "code",
      "source": [
        "# file size\n",
        "os.path.getsize(\"output_file.csv.gz\")"
      ],
      "metadata": {
        "colab": {
          "base_uri": "https://localhost:8080/"
        },
        "id": "_ffXbqUfW_rl",
        "outputId": "684e1aff-af50-48e5-b129-7af046db2933"
      },
      "execution_count": 22,
      "outputs": [
        {
          "output_type": "execute_result",
          "data": {
            "text/plain": [
              "82059"
            ]
          },
          "metadata": {},
          "execution_count": 22
        }
      ]
    }
  ]
}